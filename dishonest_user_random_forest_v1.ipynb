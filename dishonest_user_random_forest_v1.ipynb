{
 "cells": [
  {
   "cell_type": "markdown",
   "metadata": {},
   "source": [
    "# Random Forest and Feature Importance on Dishonest User Dataset\n",
    "**Author:** Kalea Sebesta<br>\n",
    "**Date:** 19 Oct 2018<br>\n",
    "\n",
    "**Dataset:** UC Irvine https://archive.ics.uci.edu/ml/datasets/Dishonest+Internet+users+Dataset#\n",
    "\n",
    "**Purpose:** The purpose of this notebook is to apply random forest classifier algorithm on a dishonest internet user dataset and perform feature importance. The cavat to this problem is the data set is small."
   ]
  },
  {
   "cell_type": "code",
   "execution_count": 130,
   "metadata": {},
   "outputs": [],
   "source": [
    "import pandas as pd\n",
    "import numpy as np\n",
    "from sklearn import preprocessing\n",
    "from sklearn.model_selection import train_test_split\n",
    "from sklearn.preprocessing import StandardScaler\n",
    "from sklearn.metrics import confusion_matrix\n",
    "from imblearn.over_sampling import SMOTE\n",
    "from sklearn.metrics import recall_score\n",
    "from sklearn.ensemble import RandomForestClassifier\n",
    "import random\n",
    "from sklearn.model_selection import cross_val_score\n",
    "from sklearn.metrics import accuracy_score\n",
    "from sklearn.metrics import recall_score\n",
    "import matplotlib as plt\n",
    "import seaborn as sns\n",
    "%matplotlib inline"
   ]
  },
  {
   "cell_type": "markdown",
   "metadata": {},
   "source": [
    "## Create Functions\n",
    "\n",
    "rf_results is a function that takes in the x and y smote training set and the x and y test split sets calculates the predicted value for y test set and calculates the confusion matrix and displays the results. This function uses the random forest classifier to fit a model using the training x and y smote sets and then uses it to predict the labels for the x testing set; this results in accuiring the y_pred. From there, the confusion matrix calculations are made.\n",
    "\n",
    "TN = True Negative: Predicted trustworthy when the true label was trustworthy<br>\n",
    "FP = False Positive: Predicted untrustworthy when the true label was trustworthy<br>\n",
    "FN = False Negative: Predicted trustworthy when the true label was untrustworthy<br>\n",
    "TP = True Positive: Predicted untrustworthy when the true label was untrustworthy<br>\n",
    "\n",
    "The Confusion Matrix is then displayed with the predicted values and actual value counts along with the testing accuracy score for the smote training to predict the y test value, sensitivity score using smote training to predict y test value, and the number of mislabled points."
   ]
  },
  {
   "cell_type": "code",
   "execution_count": 128,
   "metadata": {},
   "outputs": [],
   "source": [
    "#create function\n",
    "def rf_results(x_train_res, y_train_res, X_test, y_test):\n",
    "    y_pred = rnd_clf2.fit(x_train_res, y_train_res).predict(X_test)\n",
    "    recall = recall_score(y_test, y_pred, average='macro')\n",
    "\n",
    "    confusion_matrix(y_test, y_pred)\n",
    "    tn, fp, fn, tp = confusion_matrix(y_test,y_pred).ravel()\n",
    "    tn, fp, fn, tp\n",
    "\n",
    "    #display confusion matrix\n",
    "    print('                  Predicted Value')\n",
    "    print(' Actual      |Trustworthy| Untrustworthy|')\n",
    "    print('Trustworthy  |  {}          {}         '.format(tn, fp))\n",
    "    print('Untrustworthy|  {}          {}        \\n'.format(fn, tp))\n",
    "\n",
    "    print('Test Accuracy Score using SMOTE Training to predict y_test split: {}'.format(accuracy_score(y_test, y_pred)))\n",
    "    print('Test Sensitivity Score using SMOTE Training to predict y_test split: {}'.format(recall_score(y_test, y_pred, average = 'macro')))\n",
    "    print('sensitivity: {}'.format(recall))\n",
    "\n",
    "    print(\"Number of mislabeled points out of a total %d points : %d\"%(x_train_res.shape[0],(y_test != y_pred).sum()))"
   ]
  },
  {
   "cell_type": "markdown",
   "metadata": {},
   "source": [
    "## Read In Data"
   ]
  },
  {
   "cell_type": "code",
   "execution_count": 131,
   "metadata": {},
   "outputs": [
    {
     "data": {
      "text/html": [
       "<div>\n",
       "<style scoped>\n",
       "    .dataframe tbody tr th:only-of-type {\n",
       "        vertical-align: middle;\n",
       "    }\n",
       "\n",
       "    .dataframe tbody tr th {\n",
       "        vertical-align: top;\n",
       "    }\n",
       "\n",
       "    .dataframe thead th {\n",
       "        text-align: right;\n",
       "    }\n",
       "</style>\n",
       "<table border=\"1\" class=\"dataframe\">\n",
       "  <thead>\n",
       "    <tr style=\"text-align: right;\">\n",
       "      <th></th>\n",
       "      <th>CT</th>\n",
       "      <th>CU</th>\n",
       "      <th>LT</th>\n",
       "      <th>TC</th>\n",
       "      <th>TS</th>\n",
       "      <th>User_Status</th>\n",
       "      <th>TA</th>\n",
       "    </tr>\n",
       "  </thead>\n",
       "  <tbody>\n",
       "    <tr>\n",
       "      <th>0</th>\n",
       "      <td>CT_range_4</td>\n",
       "      <td>CU_range_1</td>\n",
       "      <td>LT_range_4</td>\n",
       "      <td>sport</td>\n",
       "      <td>untrustworthy</td>\n",
       "      <td>fair</td>\n",
       "      <td>BM</td>\n",
       "    </tr>\n",
       "    <tr>\n",
       "      <th>1</th>\n",
       "      <td>CT_range_4</td>\n",
       "      <td>CU_range_1</td>\n",
       "      <td>LT_range_4</td>\n",
       "      <td>sport</td>\n",
       "      <td>untrustworthy</td>\n",
       "      <td>fair</td>\n",
       "      <td>BM</td>\n",
       "    </tr>\n",
       "    <tr>\n",
       "      <th>2</th>\n",
       "      <td>CT_range_1</td>\n",
       "      <td>CU_range_4</td>\n",
       "      <td>LT_range_4</td>\n",
       "      <td>sport</td>\n",
       "      <td>trustworthy</td>\n",
       "      <td>fair</td>\n",
       "      <td>BM</td>\n",
       "    </tr>\n",
       "    <tr>\n",
       "      <th>3</th>\n",
       "      <td>CT_range_2</td>\n",
       "      <td>CU_range_1</td>\n",
       "      <td>LT_range_4</td>\n",
       "      <td>sport</td>\n",
       "      <td>trustworthy</td>\n",
       "      <td>fair</td>\n",
       "      <td>BM</td>\n",
       "    </tr>\n",
       "    <tr>\n",
       "      <th>4</th>\n",
       "      <td>CT_range_3</td>\n",
       "      <td>CU_range_1</td>\n",
       "      <td>LT_range_4</td>\n",
       "      <td>sport</td>\n",
       "      <td>trustworthy</td>\n",
       "      <td>fair</td>\n",
       "      <td>BM</td>\n",
       "    </tr>\n",
       "  </tbody>\n",
       "</table>\n",
       "</div>"
      ],
      "text/plain": [
       "           CT          CU          LT     TC             TS User_Status  TA\n",
       "0  CT_range_4  CU_range_1  LT_range_4  sport  untrustworthy        fair  BM\n",
       "1  CT_range_4  CU_range_1  LT_range_4  sport  untrustworthy        fair  BM\n",
       "2  CT_range_1  CU_range_4  LT_range_4  sport    trustworthy        fair  BM\n",
       "3  CT_range_2  CU_range_1  LT_range_4  sport    trustworthy        fair  BM\n",
       "4  CT_range_3  CU_range_1  LT_range_4  sport    trustworthy        fair  BM"
      ]
     },
     "execution_count": 131,
     "metadata": {},
     "output_type": "execute_result"
    }
   ],
   "source": [
    "#read in data\n",
    "df = pd.read_csv('Dishonest_Internet_User_Expanded.csv')\n",
    "df.head()"
   ]
  },
  {
   "cell_type": "markdown",
   "metadata": {},
   "source": [
    "## Data Preprocessing\n",
    "The target variable needs to be identified in a binary numerical form. Untrustworthy is set to 1 and trustworthy is set to 0. The features are also encoded."
   ]
  },
  {
   "cell_type": "code",
   "execution_count": 132,
   "metadata": {},
   "outputs": [],
   "source": [
    "#preprocess data\n",
    "# creating a dict file\n",
    "target = df['TS']\n",
    "TS = {'untrustworthy': 1,'trustworthy': 0} \n",
    "\n",
    "# traversing through dataframe \n",
    "# TS column and writing \n",
    "# values where key matches \n",
    "target = [TS[item] for item in target] "
   ]
  },
  {
   "cell_type": "code",
   "execution_count": 133,
   "metadata": {},
   "outputs": [
    {
     "data": {
      "text/plain": [
       "trustworthy      3178\n",
       "untrustworthy    1652\n",
       "Name: TS, dtype: int64"
      ]
     },
     "execution_count": 133,
     "metadata": {},
     "output_type": "execute_result"
    },
    {
     "data": {
      "image/png": "[encoded data removed]",
      "text/plain": [
       "<Figure size 432x288 with 1 Axes>"
      ]
     },
     "metadata": {},
     "output_type": "display_data"
    }
   ],
   "source": [
    "pd.value_counts(df['TS']).plot.bar()\n",
    "df['TS'].value_counts()"
   ]
  },
  {
   "cell_type": "code",
   "execution_count": 134,
   "metadata": {},
   "outputs": [],
   "source": [
    "#encode categorical variables\n",
    "#label encodered used thus maps are made alphebetically\n",
    "#range_1 maps to 0, range_2 maps to 1, range_3 maps to 2, range_4 maps to 3\n",
    "#ECommerce maps to 0, game maps to 1, holiday maps to 2, sport maps to 3"
   ]
  },
  {
   "cell_type": "code",
   "execution_count": 135,
   "metadata": {},
   "outputs": [],
   "source": [
    "features = df.drop(['TS'], axis = 1)"
   ]
  },
  {
   "cell_type": "code",
   "execution_count": 136,
   "metadata": {},
   "outputs": [],
   "source": [
    "features = features.apply(preprocessing.LabelEncoder().fit_transform)"
   ]
  },
  {
   "cell_type": "code",
   "execution_count": 137,
   "metadata": {},
   "outputs": [
    {
     "data": {
      "text/html": [
       "<div>\n",
       "<style scoped>\n",
       "    .dataframe tbody tr th:only-of-type {\n",
       "        vertical-align: middle;\n",
       "    }\n",
       "\n",
       "    .dataframe tbody tr th {\n",
       "        vertical-align: top;\n",
       "    }\n",
       "\n",
       "    .dataframe thead th {\n",
       "        text-align: right;\n",
       "    }\n",
       "</style>\n",
       "<table border=\"1\" class=\"dataframe\">\n",
       "  <thead>\n",
       "    <tr style=\"text-align: right;\">\n",
       "      <th></th>\n",
       "      <th>CT</th>\n",
       "      <th>CU</th>\n",
       "      <th>LT</th>\n",
       "      <th>TC</th>\n",
       "      <th>User_Status</th>\n",
       "      <th>TA</th>\n",
       "    </tr>\n",
       "  </thead>\n",
       "  <tbody>\n",
       "    <tr>\n",
       "      <th>0</th>\n",
       "      <td>3</td>\n",
       "      <td>0</td>\n",
       "      <td>3</td>\n",
       "      <td>3</td>\n",
       "      <td>0</td>\n",
       "      <td>0</td>\n",
       "    </tr>\n",
       "    <tr>\n",
       "      <th>1</th>\n",
       "      <td>3</td>\n",
       "      <td>0</td>\n",
       "      <td>3</td>\n",
       "      <td>3</td>\n",
       "      <td>0</td>\n",
       "      <td>0</td>\n",
       "    </tr>\n",
       "    <tr>\n",
       "      <th>2</th>\n",
       "      <td>0</td>\n",
       "      <td>2</td>\n",
       "      <td>3</td>\n",
       "      <td>3</td>\n",
       "      <td>0</td>\n",
       "      <td>0</td>\n",
       "    </tr>\n",
       "    <tr>\n",
       "      <th>3</th>\n",
       "      <td>1</td>\n",
       "      <td>0</td>\n",
       "      <td>3</td>\n",
       "      <td>3</td>\n",
       "      <td>0</td>\n",
       "      <td>0</td>\n",
       "    </tr>\n",
       "    <tr>\n",
       "      <th>4</th>\n",
       "      <td>2</td>\n",
       "      <td>0</td>\n",
       "      <td>3</td>\n",
       "      <td>3</td>\n",
       "      <td>0</td>\n",
       "      <td>0</td>\n",
       "    </tr>\n",
       "  </tbody>\n",
       "</table>\n",
       "</div>"
      ],
      "text/plain": [
       "   CT  CU  LT  TC  User_Status  TA\n",
       "0   3   0   3   3            0   0\n",
       "1   3   0   3   3            0   0\n",
       "2   0   2   3   3            0   0\n",
       "3   1   0   3   3            0   0\n",
       "4   2   0   3   3            0   0"
      ]
     },
     "execution_count": 137,
     "metadata": {},
     "output_type": "execute_result"
    }
   ],
   "source": [
    "features.head()"
   ]
  },
  {
   "cell_type": "markdown",
   "metadata": {},
   "source": [
    "## Make Random Forest Model \n",
    "The first random forest modal made using all features results in a accuracy and sensitivity of 100% and the feature importance shows that user_status has the most influence followed by TC and CT. This model suggests that it is overfiting."
   ]
  },
  {
   "cell_type": "code",
   "execution_count": 138,
   "metadata": {},
   "outputs": [
    {
     "name": "stdout",
     "output_type": "stream",
     "text": [
      "CT = 0.22485988020519457\n",
      "CU = 0.046566742322254995\n",
      "LT = 0.15796325221914323\n",
      "TC = 0.24727104719600107\n",
      "User_Status = 0.29282524638655877\n",
      "TA = 0.03051383167084752\n"
     ]
    }
   ],
   "source": [
    "rnd_clf = RandomForestClassifier(n_estimators=500, n_jobs=-1, random_state=42)\n",
    "rnd_clf.fit(features, target)\n",
    "for name, importance in zip(features, rnd_clf.feature_importances_):\n",
    "     print(name, \"=\", importance)"
   ]
  },
  {
   "cell_type": "code",
   "execution_count": 141,
   "metadata": {},
   "outputs": [
    {
     "name": "stdout",
     "output_type": "stream",
     "text": [
      "                  Predicted Value\n",
      " Actual      |Trustworthy| Untrustworthy|\n",
      "Trustworthy  |  609          0         \n",
      "Untrustworthy|  0          357        \n",
      "\n",
      "Test Accuracy Score using SMOTE Training to predict y_test split: 1.0\n",
      "Test Sensitivity Score using SMOTE Training to predict y_test split: 1.0\n",
      "sensitivity: 1.0\n",
      "Number of mislabeled points out of a total 5138 points : 0\n"
     ]
    }
   ],
   "source": [
    "rf_results(x_train_res, y_train_res, X_test, y_test)"
   ]
  },
  {
   "cell_type": "markdown",
   "metadata": {},
   "source": [
    "## Make Second Random Forest Model\n",
    "For the second random forest model I dropped the user_status from the features since it is correlated with the target variable. This model results in a Test Accuracy Score using SMOTE Training to predict y_test split of 83% and a Test Sensitivity Score using SMOTE Training to predict y_test split of 81.7%. The feature importance is showing that TC, CT, and LT are the ones with the most influence."
   ]
  },
  {
   "cell_type": "code",
   "execution_count": 143,
   "metadata": {},
   "outputs": [
    {
     "name": "stdout",
     "output_type": "stream",
     "text": [
      "CT = 0.24936502085692047\n",
      "CU = 0.07137797297142111\n",
      "LT = 0.2078239755802103\n",
      "TC = 0.2812073425638837\n",
      "TA = 0.19022568802756445\n"
     ]
    }
   ],
   "source": [
    "#read in data\n",
    "df = pd.read_csv('Dishonest_Internet_User_Expanded.csv')\n",
    "#preprocess data\n",
    "# creating a dict file\n",
    "target = df['TS']\n",
    "TS = {'untrustworthy': 1,'trustworthy': 0} \n",
    "\n",
    "# traversing through dataframe \n",
    "# TS column and writing \n",
    "# values where key matches \n",
    "target = [TS[item] for item in target] \n",
    "\n",
    "#drop user_status\n",
    "features = df.drop(['TS','User_Status'], axis = 1)\n",
    "features = features.apply(preprocessing.LabelEncoder().fit_transform)\n",
    "\n",
    "#split data into train and testing sets\n",
    "X_train, X_test, y_train, y_test = train_test_split(features, target, test_size=0.20, random_state=42)\n",
    "\n",
    "#smote to balance dataset\n",
    "sm = SMOTE(random_state=12)\n",
    "x_train_res, y_train_res = sm.fit_sample(X_train, y_train)\n",
    "\n",
    "rnd_clf2 = RandomForestClassifier(n_estimators=500, n_jobs=-1, random_state=42)\n",
    "rnd_clf2.fit(x_train_res, y_train_res)\n",
    "for name, importance in zip(features, rnd_clf2.feature_importances_):\n",
    "     print(name, \"=\", importance)"
   ]
  },
  {
   "cell_type": "code",
   "execution_count": 144,
   "metadata": {},
   "outputs": [
    {
     "name": "stdout",
     "output_type": "stream",
     "text": [
      "                  Predicted Value\n",
      " Actual      |Trustworthy| Untrustworthy|\n",
      "Trustworthy  |  530          79         \n",
      "Untrustworthy|  84          273        \n",
      "\n",
      "Test Accuracy Score using SMOTE Training to predict y_test split: 0.8312629399585921\n",
      "Test Sensitivity Score using SMOTE Training to predict y_test split: 0.8174925142470781\n",
      "sensitivity: 0.8174925142470781\n",
      "Number of mislabeled points out of a total 5138 points : 163\n"
     ]
    }
   ],
   "source": [
    "rf_results(x_train_res, y_train_res, X_test, y_test)"
   ]
  },
  {
   "cell_type": "code",
   "execution_count": null,
   "metadata": {},
   "outputs": [],
   "source": []
  }
 ],
 "metadata": {
  "kernelspec": {
   "display_name": "Python 3",
   "language": "python",
   "name": "python3"
  },
  "language_info": {
   "codemirror_mode": {
    "name": "ipython",
    "version": 3
   },
   "file_extension": ".py",
   "mimetype": "text/x-python",
   "name": "python",
   "nbconvert_exporter": "python",
   "pygments_lexer": "ipython3",
   "version": "3.6.5"
  }
 },
 "nbformat": 4,
 "nbformat_minor": 2
}
